{
 "cells": [
  {
   "cell_type": "code",
   "execution_count": null,
   "id": "899db271",
   "metadata": {},
   "outputs": [],
   "source": [
    "# Base de Conocimiento\n",
    "KB = {\n",
    "    \"Hechos\": [\n",
    "        \n",
    "    ],\n",
    "    \"Reglas\": [\n",
    "        {\n",
    "            \"condicion\": [\"riesgo=bajo\", \"eficiencia_energetica=True\"], \n",
    "            \"decision\": \"Aprobado\"\n",
    "        },\n",
    "        {\n",
    "            \"condicion\": [\"riesgo=alto\", \"impacto_ambiental=negativo\"],\n",
    "            \"decision\": \"Rechazado\"\n",
    "        },\n",
    "        {\n",
    "            \"condicion\": [\"endeudamiento=medio\", \"impacto_ambiental=moderado\"],\n",
    "            \"decision\": \"AprobarCondicionadoGarantia\"\n",
    "        }\n",
    "    ],\n",
    "    \"ReglasCombinadas\": [\n",
    "        {\n",
    "            \"condicion\": [\"riesgo=medio\", \"impacto_ambiental=positivo\", \"cofinanciamiento=True\"], \n",
    "            \"decision\": \"AprobadoCondicionadoMitigaciónSeguimiento\",\n",
    "            \"FactoresAdicionales\": [\"ApoyoComunitario\"]\n",
    "        },\n",
    "        {\n",
    "            \"condicion\":[\"riesgo=alto\", \"eficiencia_energetica=False\", \"impacto_ambiental=negativo\"],\n",
    "            \"decision\": \"RechazadoDefinitivo\",\n",
    "            \"FactoresAdicionales\": [\"RechazoComunitario\"]\n",
    "        },\n",
    "    ]\n",
    "}"
   ]
  },
  {
   "cell_type": "code",
   "execution_count": 5,
   "id": "d4ecd518",
   "metadata": {},
   "outputs": [],
   "source": [
    "# Recopilación de Datos\n",
    "def recopilar_datos(info_cliente):\n",
    "    hechos = {info: True for info in info_cliente}\n",
    "    print(\"Datos recopilados:\", info_cliente)\n",
    "    return hechos"
   ]
  },
  {
   "cell_type": "code",
   "execution_count": null,
   "id": "b1033e29",
   "metadata": {},
   "outputs": [],
   "source": [
    "# Aplicación de Reglas Específicas\n",
    "def aplicar_reglas_especificas(KB, hechos):\n",
    "    resultado = []\n",
    "    for regla in KB[\"Reglas\"]:\n",
    "        if verificar_condicion(hechos, regla[\"condicion\"]):\n",
    "            resultado.append(regla[\"decision\"])\n",
    "            print(f\"Regla específica activada: {regla['Condición']}\")\n",
    "    return resultado"
   ]
  },
  {
   "cell_type": "code",
   "execution_count": null,
   "id": "afd89bca",
   "metadata": {},
   "outputs": [],
   "source": [
    "# Aplicación de Reglas Combinadas\n",
    "def aplicar_reglas_combinadas(KB, hechos, factores_adicionales):\n",
    "    resultados_combinados = []\n",
    "    for regla in KB[\"ReglasCombinadas\"]:\n",
    "        if (verificar_condicion(hechos, regla[\"condicion\"]) and\n",
    "                verificar_factores(factores_adicionales, regla[\"FactoresAdicionales\"])):\n",
    "            resultados_combinados.append(regla[\"decision\"])\n",
    "            print(f\"Regla combinada activada: {regla['decision']}\")\n",
    "    return resultados_combinados"
   ]
  },
  {
   "cell_type": "code",
   "execution_count": 9,
   "id": "1e33b5c5",
   "metadata": {},
   "outputs": [],
   "source": [
    "# Funciones Auxiliares\n",
    "def verificar_condicion(hechos, condicion):\n",
    "    for condic in condicion:\n",
    "        if condic not in hechos or not hechos[condic]:\n",
    "            return False\n",
    "    return True\n",
    "\n",
    "def verificar_factores(factores_adicionales, factores_requeridos):\n",
    "    for factor in factores_requeridos:\n",
    "        if factor not in factores_adicionales:\n",
    "            return False\n",
    "    return True"
   ]
  },
  {
   "cell_type": "code",
   "execution_count": null,
   "id": "2af82d2d",
   "metadata": {},
   "outputs": [],
   "source": [
    "\n",
    "def agregar_hecho(solicitante, proyecto, condicion, valor):\n",
    "    KB[\"Hechos\"].append({\n",
    "        \"solicitante\": solicitante,\n",
    "        \"proyecto\": proyecto,\n",
    "        \"condicion\": condicion,\n",
    "        \"valor\": valor\n",
    "    })"
   ]
  },
  {
   "cell_type": "code",
   "execution_count": 3,
   "id": "c5c04ab8",
   "metadata": {},
   "outputs": [],
   "source": [
    "def hechos_de(solicitante, proyecto):\n",
    "    return [h for h in KB[\"Hechos\"] if h[\"solicitante\"] == solicitante and h[\"proyecto\"] == proyecto]"
   ]
  },
  {
   "cell_type": "code",
   "execution_count": null,
   "id": "48fd9e6c",
   "metadata": {},
   "outputs": [],
   "source": [
    "def aplicar_reglas(solicitante, proyecto):\n",
    "    hechos = hechos_de(solicitante, proyecto)\n",
    "    decisiones = []\n",
    "    justificaciones = []\n",
    "    for regla in KB[\"Reglas\"]:\n",
    "        condiciones = regla[\"condicion\"].split(\"&&\")\n",
    "        cumple = True\n",
    "        for cond in condiciones:\n",
    "            cond = cond.strip()\n",
    "            if \"=\" in cond:\n",
    "                clave, valor = cond.split(\"=\")\n",
    "                clave = clave.strip()\n",
    "                valor = valor.strip()\n",
    "                if valor == \"True\":\n",
    "                    valor = True\n",
    "                elif valor == \"False\":\n",
    "                    valor = False\n",
    "                encontrado = any(\n",
    "                    h[\"condición\"] == clave and h[\"valor\"] == valor\n",
    "                    for h in hechos\n",
    "                )\n",
    "                if not encontrado:\n",
    "                    cumple = False\n",
    "                    break\n",
    "        if cumple:\n",
    "            decisiones.append(regla[\"decision\"])\n",
    "            justificaciones.append(regla[\"condición\"])\n",
    "    return decisiones, justificaciones"
   ]
  },
  {
   "cell_type": "code",
   "execution_count": null,
   "id": "c52f1fc6",
   "metadata": {},
   "outputs": [],
   "source": [
    "# def priorizar_recomendaciones(decisiones):\n",
    "#     prioridad = {\n",
    "#         \"Aprobado\": 3,\n",
    "#         \"AprobadoCondicionadoMitigaciónSeguimiento\": 2,\n",
    "#         \"Rechazado\": 0\n",
    "#     }\n",
    "#     if not decisiones:\n",
    "#         return \"Sin decision\"\n",
    "#     return sorted(decisiones, key=lambda d: prioridad.get(d, -1), reverse=True)[0]"
   ]
  },
  {
   "cell_type": "code",
   "execution_count": null,
   "id": "76842f9b",
   "metadata": {},
   "outputs": [],
   "source": [
    "# def evaluar_credito(solicitante, proyecto):\n",
    "#     print(f\"Evaluando crédito para {solicitante} y proyecto {proyecto}\")\n",
    "#     decisiones, justificaciones = aplicar_reglas(solicitante, proyecto)\n",
    "#     decision_final = priorizar_recomendaciones(decisiones)\n",
    "#     print(f\"Decision priorizada: {decision_final}\")\n",
    "#     print(f\"Justificación: {justificaciones}\")\n",
    "#     print(\"---\")"
   ]
  },
  {
   "cell_type": "code",
   "execution_count": null,
   "id": "456190c4",
   "metadata": {},
   "outputs": [],
   "source": [
    "# agregar_hecho(\"Juan\", \"Edificio Verde\", \"riesgo\", \"bajo\")\n",
    "# agregar_hecho(\"Juan\", \"Edificio Verde\", \"eficiencia_energetica\", True)\n",
    "\n",
    "# agregar_hecho(\"Ana\", \"Fabrica\", \"riesgo\", \"alto\")\n",
    "# agregar_hecho(\"Ana\", \"Fabrica\", \"impacto_ambiental\", \"negativo\")\n",
    "\n",
    "# agregar_hecho(\"Luis\", \"Planta Solar\", \"riesgo\", \"medio\")\n",
    "# agregar_hecho(\"Luis\", \"Planta Solar\", \"impacto_ambiental\", \"positivo\")\n",
    "# agregar_hecho(\"Luis\", \"Planta Solar\", \"cofinanciamiento\", True)"
   ]
  },
  {
   "cell_type": "code",
   "execution_count": 1,
   "id": "8587bb23",
   "metadata": {},
   "outputs": [],
   "source": [
    "# evaluar_credito(\"Juan\", \"Edificio Verde\")\n",
    "# evaluar_credito(\"Ana\", \"Fabrica\")\n",
    "# evaluar_credito(\"Luis\", \"Planta Solar\")"
   ]
  },
  {
   "cell_type": "code",
   "execution_count": 6,
   "id": "40d19c7b",
   "metadata": {},
   "outputs": [],
   "source": [
    "def evaluar_credito(info_cliente):\n",
    "    # Recopilación de datos\n",
    "    hechos = recopilar_datos(info_cliente)"
   ]
  },
  {
   "cell_type": "code",
   "execution_count": 7,
   "id": "416416f7",
   "metadata": {},
   "outputs": [
    {
     "name": "stdout",
     "output_type": "stream",
     "text": [
      "Datos recopilados: ['riesgo=bajo', 'eficiencia_energetica=True']\n"
     ]
    }
   ],
   "source": [
    "# Ejemplo de Ejecución\n",
    "sintomas_paciente = [\"riesgo=bajo\", \"eficiencia_energetica=True\"]\n",
    "\n",
    "evaluar_credito(sintomas_paciente)"
   ]
  }
 ],
 "metadata": {
  "kernelspec": {
   "display_name": "Python 3",
   "language": "python",
   "name": "python3"
  },
  "language_info": {
   "codemirror_mode": {
    "name": "ipython",
    "version": 3
   },
   "file_extension": ".py",
   "mimetype": "text/x-python",
   "name": "python",
   "nbconvert_exporter": "python",
   "pygments_lexer": "ipython3",
   "version": "3.11.9"
  }
 },
 "nbformat": 4,
 "nbformat_minor": 5
}
