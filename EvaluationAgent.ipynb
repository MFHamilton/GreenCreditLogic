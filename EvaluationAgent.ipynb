{
 "cells": [
  {
   "cell_type": "code",
   "execution_count": 13,
   "id": "899db271",
   "metadata": {},
   "outputs": [],
   "source": [
    "# Base de Conocimiento\n",
    "KB = {\n",
    "    \"Hechos\": [\n",
    "        \n",
    "    ],\n",
    "    \"Reglas\": [\n",
    "        {\n",
    "            \"condicion\": [\"riesgo=bajo\", \"eficiencia_energetica=True\"], \n",
    "            \"decision\": \"Aprobado\"\n",
    "        },\n",
    "        {\n",
    "            \"condicion\": [\"riesgo=alto\", \"impacto_ambiental=negativo\"],\n",
    "            \"decision\": \"Rechazado\"\n",
    "        },\n",
    "        {\n",
    "            \"condicion\": [\"endeudamiento=medio\", \"impacto_ambiental=moderado\"],\n",
    "            \"decision\": \"AprobarCondicionadoGarantia\"\n",
    "        }\n",
    "    ],\n",
    "    \"ReglasCombinadas\": [\n",
    "        {\n",
    "            \"condicion\": [\"riesgo=medio\", \"impacto_ambiental=positivo\", \"cofinanciamiento=True\"], \n",
    "            \"decision\": \"AprobadoCondicionadoMitigaciónSeguimiento\",\n",
    "            \"FactoresAdicionales\": [\"ApoyoComunitario\"]\n",
    "        },\n",
    "        {\n",
    "            \"condicion\":[\"riesgo=alto\", \"eficiencia_energetica=False\", \"impacto_ambiental=negativo\"],\n",
    "            \"decision\": \"RechazadoDefinitivo\",\n",
    "            \"FactoresAdicionales\": [\"RechazoComunitario\"]\n",
    "        },\n",
    "    ]\n",
    "}"
   ]
  },
  {
   "cell_type": "code",
   "execution_count": 14,
   "id": "d4ecd518",
   "metadata": {},
   "outputs": [],
   "source": [
    "# Recopilación de Datos\n",
    "def recopilar_datos(info_cliente):\n",
    "    hechos = {info: True for info in info_cliente}\n",
    "    print(\"Datos recopilados:\", info_cliente)\n",
    "    return hechos"
   ]
  },
  {
   "cell_type": "code",
   "execution_count": 15,
   "id": "b1033e29",
   "metadata": {},
   "outputs": [],
   "source": [
    "# Aplicación de Reglas Específicas\n",
    "def aplicar_reglas_especificas(KB, hechos):\n",
    "    resultado = []\n",
    "    for i, regla in enumerate(KB[\"Reglas\"], 1):\n",
    "        if verificar_condicion(hechos, regla[\"condicion\"]):\n",
    "            resultado.append({\n",
    "                \"decision\": regla[\"decision\"],\n",
    "                \"condicion\": regla[\"condicion\"],\n",
    "                \"regla_num\": i\n",
    "            })\n",
    "            print(f\"Regla específica #{i} activada: condición = {regla['condicion']} => decisión = {regla['decision']}\")\n",
    "    return resultado"
   ]
  },
  {
   "cell_type": "code",
   "execution_count": 16,
   "id": "afd89bca",
   "metadata": {},
   "outputs": [],
   "source": [
    "# Aplicación de Reglas Combinadas\n",
    "def aplicar_reglas_combinadas(KB, hechos, factores_adicionales):\n",
    "    resultados_combinados = []\n",
    "    for regla in KB[\"ReglasCombinadas\"]:\n",
    "        if (verificar_condicion(hechos, regla[\"condicion\"]) and\n",
    "                verificar_factores(factores_adicionales, regla[\"FactoresAdicionales\"])):\n",
    "            resultados_combinados.append(regla[\"decision\"])\n",
    "            print(f\"Regla combinada activada: {regla['decision']}\")\n",
    "    return resultados_combinados"
   ]
  },
  {
   "cell_type": "code",
   "execution_count": 17,
   "id": "1e33b5c5",
   "metadata": {},
   "outputs": [],
   "source": [
    "# Funciones Auxiliares\n",
    "def verificar_condicion(hechos, condicion):\n",
    "    for condic in condicion:\n",
    "        if condic not in hechos:\n",
    "            return False\n",
    "    return True\n",
    "\n",
    "def verificar_factores(factores_adicionales, factores_requeridos):\n",
    "    # Solo verifica si el nombre del factor está presente en algún hecho\n",
    "    for factor in factores_requeridos:\n",
    "        if not any(factor.lower() in h.lower() for h in factores_adicionales):\n",
    "            return False\n",
    "    return True"
   ]
  },
  {
   "cell_type": "code",
   "execution_count": 18,
   "id": "115950b5",
   "metadata": {},
   "outputs": [],
   "source": [
    "def priorizar_decisiones(decisiones, solicitante, proyecto):\n",
    "    \"\"\"\n",
    "    Prioriza las decisiones de crédito basándose en un sistema de puntajes\n",
    "    \"\"\"\n",
    "    return sorted(decisiones, key=lambda x: calcular_puntaje_decision(x, solicitante, proyecto), reverse=True)\n",
    "\n",
    "def calcular_puntaje_decision(decision, solicitante, proyecto):\n",
    "    \"\"\"\n",
    "    Calcula un puntaje para priorizar decisiones de crédito\n",
    "    \"\"\"\n",
    "    puntaje = 0\n",
    "    \n",
    "    # Bonificaciones adicionales basadas en el historial del solicitante\n",
    "    if tiene_historial_positivo(solicitante):\n",
    "        puntaje += 15\n",
    "    \n",
    "    # Bonificación por tipo de proyecto\n",
    "    if es_proyecto_prioritario(proyecto):\n",
    "        puntaje += 10\n",
    "    \n",
    "    # Bonificación por factores ambientales\n",
    "    if tiene_impacto_ambiental_positivo(solicitante, proyecto):\n",
    "        puntaje += 8\n",
    "    \n",
    "    return puntaje\n",
    "\n",
    "def tiene_historial_positivo(solicitante):\n",
    "    \"\"\"\n",
    "    Verifica si el solicitante tiene un historial crediticio positivo\n",
    "    \"\"\"\n",
    "    # Buscar en los hechos del solicitante por indicadores positivos\n",
    "    hechos_solicitante = [h for h in KB[\"Hechos\"] if h[\"solicitante\"] == solicitante]\n",
    "    \n",
    "    for hecho in hechos_solicitante:\n",
    "        if (hecho.get(\"condicion\") == \"riesgo\" and hecho.get(\"valor\") in [\"bajo\", \"medio\"]) or \\\n",
    "           (hecho.get(\"condicion\") == \"historial_crediticio\" and hecho.get(\"valor\") == \"bueno\"):\n",
    "            return True\n",
    "    return False\n",
    "\n",
    "def es_proyecto_prioritario(proyecto):\n",
    "    \"\"\"\n",
    "    Determina si el proyecto es de alta prioridad ambiental\n",
    "    \"\"\"\n",
    "    proyectos_prioritarios = [\"Planta Solar\", \"Edificio Verde\", \"Parque Eólico\", \"Sistema Geotérmico\"]\n",
    "    return any(prioritario.lower() in proyecto.lower() for prioritario in proyectos_prioritarios)\n",
    "\n",
    "def tiene_impacto_ambiental_positivo(solicitante, proyecto):\n",
    "    \"\"\"\n",
    "    Verifica si el proyecto tiene impacto ambiental positivo\n",
    "    \"\"\"\n",
    "    hechos_proyecto = hechos_de(solicitante, proyecto)\n",
    "    \n",
    "    for hecho in hechos_proyecto:\n",
    "        if (hecho.get(\"condicion\") == \"impacto_ambiental\" and hecho.get(\"valor\") == \"positivo\") or \\\n",
    "           (hecho.get(\"condicion\") == \"eficiencia_energetica\" and hecho.get(\"valor\") is True):\n",
    "            return True\n",
    "    return False"
   ]
  },
  {
   "cell_type": "code",
   "execution_count": 19,
   "id": "2af82d2d",
   "metadata": {},
   "outputs": [],
   "source": [
    "\n",
    "def agregar_hecho(solicitante, proyecto, condicion, valor):\n",
    "    KB[\"Hechos\"].append({\n",
    "        \"solicitante\": solicitante,\n",
    "        \"proyecto\": proyecto,\n",
    "        \"condicion\": condicion,\n",
    "        \"valor\": valor\n",
    "    })"
   ]
  },
  {
   "cell_type": "code",
   "execution_count": 20,
   "id": "c5c04ab8",
   "metadata": {},
   "outputs": [],
   "source": [
    "def hechos_de(solicitante, proyecto):\n",
    "    return [h for h in KB[\"Hechos\"] if h[\"solicitante\"] == solicitante and h[\"proyecto\"] == proyecto]"
   ]
  },
  {
   "cell_type": "code",
   "execution_count": 21,
   "id": "40d19c7b",
   "metadata": {},
   "outputs": [],
   "source": [
    "def evaluar_credito(info_cliente):\n",
    "    # Recopilación de datos\n",
    "    hechos = recopilar_datos(info_cliente)"
   ]
  },
  {
   "cell_type": "code",
   "execution_count": 22,
   "id": "08622280",
   "metadata": {},
   "outputs": [
    {
     "name": "stdout",
     "output_type": "stream",
     "text": [
      "{'Hechos': [], 'Reglas': [{'condicion': ['riesgo=bajo', 'eficiencia_energetica=True'], 'decision': 'Aprobado'}, {'condicion': ['riesgo=alto', 'impacto_ambiental=negativo'], 'decision': 'Rechazado'}, {'condicion': ['endeudamiento=medio', 'impacto_ambiental=moderado'], 'decision': 'AprobarCondicionadoGarantia'}], 'ReglasCombinadas': [{'condicion': ['riesgo=medio', 'impacto_ambiental=positivo', 'cofinanciamiento=True'], 'decision': 'AprobadoCondicionadoMitigaciónSeguimiento', 'FactoresAdicionales': ['ApoyoComunitario']}, {'condicion': ['riesgo=alto', 'eficiencia_energetica=False', 'impacto_ambiental=negativo'], 'decision': 'RechazadoDefinitivo', 'FactoresAdicionales': ['RechazoComunitario']}]}\n"
     ]
    }
   ],
   "source": [
    "print(KB)"
   ]
  },
  {
   "cell_type": "code",
   "execution_count": null,
   "id": "29e3a11f",
   "metadata": {},
   "outputs": [
    {
     "name": "stdout",
     "output_type": "stream",
     "text": [
      "\n",
      "--- Juan / Edificio Verde ---\n",
      "Regla específica #1 activada: condición = ['riesgo=bajo', 'eficiencia_energetica=True'] => decisión = Aprobado\n",
      "Reglas específicas:\n",
      "  Regla #1: condición = ['riesgo=bajo', 'eficiencia_energetica=True'] => decisión = Aprobado\n",
      "Reglas combinadas:\n",
      "  Ninguna regla combinada aplicada.\n",
      "\n",
      "--- Ana / Fabrica ---\n",
      "Regla específica #2 activada: condición = ['riesgo=alto', 'impacto_ambiental=negativo'] => decisión = Rechazado\n",
      "Reglas específicas:\n",
      "  Regla #2: condición = ['riesgo=alto', 'impacto_ambiental=negativo'] => decisión = Rechazado\n",
      "Reglas combinadas:\n",
      "  Ninguna regla combinada aplicada.\n",
      "\n",
      "--- Luis / Planta Solar ---\n",
      "Regla combinada activada: AprobadoCondicionadoMitigaciónSeguimiento\n",
      "Reglas específicas:\n",
      "  Ninguna regla específica aplicada.\n",
      "Reglas combinadas:\n",
      "  Decisión combinada: AprobadoCondicionadoMitigaciónSeguimiento\n"
     ]
    }
   ],
   "source": [
    "\n",
    "def main():\n",
    "    KB[\"Hechos\"] = []\n",
    "    # Datos de prueba\n",
    "    datos = [\n",
    "        {\"solicitante\": \"Juan\", \"proyecto\": \"Edificio Verde\", \"hechos\": [\n",
    "            (\"riesgo\", \"bajo\"),\n",
    "            (\"eficiencia_energetica\", True)\n",
    "        ]},\n",
    "        {\"solicitante\": \"Ana\", \"proyecto\": \"Fabrica\", \"hechos\": [\n",
    "            (\"riesgo\", \"alto\"),\n",
    "            (\"impacto_ambiental\", \"negativo\")\n",
    "        ]},\n",
    "        {\"solicitante\": \"Luis\", \"proyecto\": \"Planta Solar\", \"hechos\": [\n",
    "            (\"riesgo\", \"medio\"),\n",
    "            (\"impacto_ambiental\", \"positivo\"),\n",
    "            (\"cofinanciamiento\", True),\n",
    "            (\"ApoyoComunitario\", None)\n",
    "        ]}\n",
    "    ]\n",
    "\n",
    "    for d in datos:\n",
    "        for cond, val in d[\"hechos\"]:\n",
    "            agregar_hecho(d[\"solicitante\"], d[\"proyecto\"], cond, val)\n",
    "\n",
    "    for d in datos:\n",
    "        hechos = hechos_de(d[\"solicitante\"], d[\"proyecto\"])\n",
    "        hechos_str = [f\"{h['condicion']}={h['valor']}\" for h in hechos]\n",
    "        print(f\"\\n--- {d['solicitante']} / {d['proyecto']} ---\")\n",
    "        res_especificas = aplicar_reglas_especificas(KB, hechos_str)\n",
    "        res_combinadas = aplicar_reglas_combinadas(KB, hechos_str, hechos_str)\n",
    "        print(\"Reglas específicas:\")\n",
    "        if res_especificas:\n",
    "            for r in res_especificas:\n",
    "                print(f\"  Regla #{r['regla_num']}: condición = {r['condicion']} => decisión = {r['decision']}\")\n",
    "        else:\n",
    "            print(\"  Ninguna regla específica aplicada.\")\n",
    "        print(\"Reglas combinadas:\")\n",
    "        if res_combinadas:\n",
    "            for rc in res_combinadas:\n",
    "                print(f\"  Decisión combinada: {rc}\")\n",
    "        else:\n",
    "            print(\"  Ninguna regla combinada aplicada.\")\n",
    "\n",
    "\n",
    "definir = main()"
   ]
  }
 ],
 "metadata": {
  "kernelspec": {
   "display_name": "Python 3",
   "language": "python",
   "name": "python3"
  },
  "language_info": {
   "codemirror_mode": {
    "name": "ipython",
    "version": 3
   },
   "file_extension": ".py",
   "mimetype": "text/x-python",
   "name": "python",
   "nbconvert_exporter": "python",
   "pygments_lexer": "ipython3",
   "version": "3.11.9"
  }
 },
 "nbformat": 4,
 "nbformat_minor": 5
}
