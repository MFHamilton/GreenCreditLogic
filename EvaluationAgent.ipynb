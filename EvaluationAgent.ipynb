{
 "cells": [
  {
   "cell_type": "code",
   "execution_count": 66,
   "id": "899db271",
   "metadata": {},
   "outputs": [],
   "source": [
    "# Base de Conocimiento\n",
    "KB = {\n",
    "    \"Hechos\": [\n",
    "        \n",
    "    ],\n",
    "    \"Reglas\": [\n",
    "        {\n",
    "            \"condicion\": \"riesgo=bajo && eficiencia_energetica=True\", \n",
    "            \"decision\": \"Aprobado\"\n",
    "        },\n",
    "        {\n",
    "            \"condicion\": \"riesgo=alto && impacto_ambiental=negativo\",\n",
    "            \"decision\": \"Rechazado\"\n",
    "        },\n",
    "        {\n",
    "            \"condicion\": \"endeudamiento=medio && impacto_ambiental=moderado\",\n",
    "            \"decision\": \"AprobarCondicionadoGarantia\"\n",
    "        }\n",
    "    ],\n",
    "    \"ReglasCombinadas\": [\n",
    "        {\n",
    "            # ESCOGER SOLAMENTE DOS HECHOS?\n",
    "            \"condicion\": \"riesgo=medio && impacto_ambiental=positivo && cofinanciamiento=True\", \n",
    "            \"decision\": \"AprobadoCondicionadoMitigaciónSeguimiento\"\n",
    "        },\n",
    "        {\n",
    "            \"condicion\": \"riesgo=bajo && impacto_ambiental=moderado && endeudamiento=medio\",\n",
    "            \"decision\": \"AprobadoCondicionadoSeguimientoAmbiental\"\n",
    "        },\n",
    "        {\n",
    "            \"condicion\": \"riesgo=medio && eficiencia_energetica=True && endeudamiento=bajo\",\n",
    "            \"decision\": \"AprobadoConDescuentoTasa\"\n",
    "        },\n",
    "        {\n",
    "            \"condicion\": \"riesgo=alto && eficiencia_energetica=False && impacto_ambiental=negativo\",\n",
    "            \"decision\": \"RechazadoDefinitivo\"\n",
    "        },\n",
    "        {\n",
    "            \"condicion\": \"riesgo=bajo && endeudamiento=alto && impacto_ambiental=positivo\",\n",
    "            \"decision\": \"AprobadoCondicionadoReestructuracionDeuda\"\n",
    "        },\n",
    "        {\n",
    "            \"condicion\": \"riesgo=alto && sector_prioritario=True && impacto_ambiental=positivo\",\n",
    "            \"decision\": \"RevisionEspecializadaSectorPrioritario\"\n",
    "        },\n",
    "    \n",
    "    ]\n",
    "}"
   ]
  },
  {
   "cell_type": "code",
   "execution_count": null,
   "id": "b1033e29",
   "metadata": {},
   "outputs": [],
   "source": [
    "def aplicar_reglas(solicitante, proyecto):\n",
    "    hechos = hechos_de(solicitante, proyecto)\n",
    "    hechos_por_condicion = {h[\"condicion\"]: h[\"valor\"] for h in hechos}\n",
    "\n",
    "    decisiones = []\n",
    "    justificaciones = []\n",
    "\n",
    "    for regla in KB[\"Reglas\"]:\n",
    "        cond_str = regla.get(\"condicion\", \"\")\n",
    "        if cond_str and coincide_condicion(cond_str, hechos_por_condicion):\n",
    "            decisiones.append(regla[\"decision\"])\n",
    "            justificaciones.append(cond_str)\n",
    "\n",
    "    return decisiones, justificaciones\n",
    "\n",
    "\n",
    "def coincide_condicion(condicion_str, hechos_por_condicion):\n",
    "    for expresion in condicion_str.split(\"&&\"):\n",
    "        clave, valor_esperado = parsear_expresion(expresion)\n",
    "        valor_real = hechos_por_condicion.get(clave)\n",
    "        if valor_real is None or not comparar_valores(valor_real, valor_esperado):\n",
    "            return False\n",
    "    return True\n",
    "\n",
    "\n",
    "def parsear_expresion(expresion):\n",
    "    if \"=\" not in expresion:\n",
    "        raise ValueError(f\"Condición mal formada: {expresion}\")\n",
    "    clave, valor = expresion.split(\"=\", 1)\n",
    "    return clave.strip(), normalizar_valor(valor.strip())\n",
    "\n",
    "\n",
    "def normalizar_valor(valor):\n",
    "    texto = valor.lower()\n",
    "    if texto == \"true\":\n",
    "        return True\n",
    "    if texto == \"false\":\n",
    "        return False\n",
    "    try:\n",
    "        return int(valor)\n",
    "    except ValueError:\n",
    "        try:\n",
    "            return float(valor)\n",
    "        except ValueError:\n",
    "            return texto  # compara strings en minúsculas\n",
    "\n",
    "\n",
    "def comparar_valores(valor_real, valor_esperado):\n",
    "    if isinstance(valor_real, str) and isinstance(valor_esperado, str):\n",
    "        return valor_real.strip().lower() == valor_esperado.strip().lower()\n",
    "    return valor_real == valor_esperado\n"
   ]
  },
  {
   "cell_type": "code",
   "execution_count": 68,
   "id": "afd89bca",
   "metadata": {},
   "outputs": [],
   "source": [
    "# Aplicación de Reglas Combinadas\n",
    "def aplicar_reglas_combinadas(solicitante, proyecto):\n",
    "    hechos_por_condicion = {\n",
    "        hecho[\"condicion\"]: hecho[\"valor\"]\n",
    "        for hecho in hechos_de(solicitante, proyecto)\n",
    "    }\n",
    "\n",
    "    decisiones = []\n",
    "    for regla in KB.get(\"ReglasCombinadas\", []):\n",
    "        condicion = regla.get(\"condicion\")\n",
    "        if condicion and coincide_condicion(condicion, hechos_por_condicion):\n",
    "            decisiones.append(regla[\"decision\"])\n",
    "    return decisiones\n"
   ]
  },
  {
   "cell_type": "code",
   "execution_count": 69,
   "id": "1e33b5c5",
   "metadata": {},
   "outputs": [],
   "source": [
    "# Funciones Auxiliares\n",
    "def verificar_condicion(hechos, condicion):\n",
    "    for condic in condicion:\n",
    "        if condic not in hechos or not hechos[condic]:\n",
    "            return False\n",
    "    return True\n",
    "\n",
    "def verificar_factores(factores_adicionales, factores_requeridos):\n",
    "    for factor in factores_requeridos:\n",
    "        if factor not in factores_adicionales:\n",
    "            return False\n",
    "    return True"
   ]
  },
  {
   "cell_type": "code",
   "execution_count": 70,
   "id": "2af82d2d",
   "metadata": {},
   "outputs": [],
   "source": [
    "\n",
    "def agregar_hecho(solicitante, proyecto, condicion, valor):\n",
    "    KB[\"Hechos\"].append({\n",
    "        \"solicitante\": solicitante,\n",
    "        \"proyecto\": proyecto,\n",
    "        \"condicion\": condicion,\n",
    "        \"valor\": valor\n",
    "    })"
   ]
  },
  {
   "cell_type": "code",
   "execution_count": 71,
   "id": "c5c04ab8",
   "metadata": {},
   "outputs": [],
   "source": [
    "def hechos_de(solicitante, proyecto):\n",
    "    return [h for h in KB[\"Hechos\"] if h[\"solicitante\"] == solicitante and h[\"proyecto\"] == proyecto]"
   ]
  },
  {
   "cell_type": "code",
   "execution_count": null,
   "id": "48fd9e6c",
   "metadata": {},
   "outputs": [],
   "source": [
    "'''\n",
    "def aplicar_reglas(solicitante, proyecto):\n",
    "    hechos = hechos_de(solicitante, proyecto)\n",
    "    decisiones = []\n",
    "    justificaciones = []\n",
    "    for regla in KB[\"Reglas\"]:\n",
    "        condiciones = regla[\"condicion\"].split(\"&&\")\n",
    "        cumple = True\n",
    "        for cond in condiciones:\n",
    "            cond = cond.strip()\n",
    "            if \"=\" in cond:\n",
    "                clave, valor = cond.split(\"=\")\n",
    "                clave = clave.strip()\n",
    "                valor = valor.strip()\n",
    "                if valor == \"True\":\n",
    "                    valor = True\n",
    "                elif valor == \"False\":\n",
    "                    valor = False\n",
    "                encontrado = any(\n",
    "                    h[\"condición\"] == clave and h[\"valor\"] == valor\n",
    "                    for h in hechos\n",
    "                )\n",
    "                if not encontrado:\n",
    "                    cumple = False\n",
    "                    break\n",
    "        if cumple:\n",
    "            decisiones.append(regla[\"decision\"])\n",
    "            justificaciones.append(regla[\"condición\"])\n",
    "    return decisiones, justificaciones\n",
    "'''"
   ]
  },
  {
   "cell_type": "code",
   "execution_count": 73,
   "id": "c52f1fc6",
   "metadata": {},
   "outputs": [],
   "source": [
    "def priorizar_recomendaciones(decisiones):\n",
    "    prioridad = {\n",
    "        \"Aprobado\": 3,\n",
    "        \"AprobadoCondicionadoMitigaciónSeguimiento\": 2,\n",
    "        \"Rechazado\": 0\n",
    "    }\n",
    "    if not decisiones:\n",
    "        return \"Sin decision\"\n",
    "    return sorted(decisiones, key=lambda d: prioridad.get(d, -1), reverse=True)[0]"
   ]
  },
  {
   "cell_type": "code",
   "execution_count": 74,
   "id": "76842f9b",
   "metadata": {},
   "outputs": [],
   "source": [
    "def evaluar_credito(solicitante, proyecto):\n",
    "    print(f\"Evaluando crédito para {solicitante} y proyecto {proyecto}\")\n",
    "    decisiones, justificaciones = aplicar_reglas(solicitante, proyecto)\n",
    "    decision_final = priorizar_recomendaciones(decisiones)\n",
    "    print(f\"Decision priorizada: {decision_final}\")\n",
    "    print(f\"Justificación: {justificaciones}\")\n",
    "    print(\"---\")"
   ]
  },
  {
   "cell_type": "code",
   "execution_count": 75,
   "id": "456190c4",
   "metadata": {},
   "outputs": [],
   "source": [
    "agregar_hecho(\"Juan\", \"Edificio Verde\", \"riesgo\", \"bajo\")\n",
    "agregar_hecho(\"Juan\", \"Edificio Verde\", \"eficiencia_energetica\", True)\n",
    "\n",
    "agregar_hecho(\"Ana\", \"Fabrica\", \"riesgo\", \"alto\")\n",
    "agregar_hecho(\"Ana\", \"Fabrica\", \"impacto_ambiental\", \"negativo\")\n",
    "\n",
    "agregar_hecho(\"Luis\", \"Planta Solar\", \"riesgo\", \"medio\")\n",
    "agregar_hecho(\"Luis\", \"Planta Solar\", \"impacto_ambiental\", \"positivo\")\n",
    "agregar_hecho(\"Luis\", \"Planta Solar\", \"cofinanciamiento\", True)"
   ]
  },
  {
   "cell_type": "code",
   "execution_count": 76,
   "id": "8587bb23",
   "metadata": {},
   "outputs": [
    {
     "name": "stdout",
     "output_type": "stream",
     "text": [
      "Evaluando crédito para Juan y proyecto Edificio Verde\n"
     ]
    },
    {
     "ename": "KeyError",
     "evalue": "'condición'",
     "output_type": "error",
     "traceback": [
      "\u001b[31m---------------------------------------------------------------------------\u001b[39m",
      "\u001b[31mKeyError\u001b[39m                                  Traceback (most recent call last)",
      "\u001b[36mCell\u001b[39m\u001b[36m \u001b[39m\u001b[32mIn[76]\u001b[39m\u001b[32m, line 1\u001b[39m\n\u001b[32m----> \u001b[39m\u001b[32m1\u001b[39m \u001b[43mevaluar_credito\u001b[49m\u001b[43m(\u001b[49m\u001b[33;43m\"\u001b[39;49m\u001b[33;43mJuan\u001b[39;49m\u001b[33;43m\"\u001b[39;49m\u001b[43m,\u001b[49m\u001b[43m \u001b[49m\u001b[33;43m\"\u001b[39;49m\u001b[33;43mEdificio Verde\u001b[39;49m\u001b[33;43m\"\u001b[39;49m\u001b[43m)\u001b[49m\n\u001b[32m      2\u001b[39m evaluar_credito(\u001b[33m\"\u001b[39m\u001b[33mAna\u001b[39m\u001b[33m\"\u001b[39m, \u001b[33m\"\u001b[39m\u001b[33mFabrica\u001b[39m\u001b[33m\"\u001b[39m)\n\u001b[32m      3\u001b[39m evaluar_credito(\u001b[33m\"\u001b[39m\u001b[33mLuis\u001b[39m\u001b[33m\"\u001b[39m, \u001b[33m\"\u001b[39m\u001b[33mPlanta Solar\u001b[39m\u001b[33m\"\u001b[39m)\n",
      "\u001b[36mCell\u001b[39m\u001b[36m \u001b[39m\u001b[32mIn[74]\u001b[39m\u001b[32m, line 3\u001b[39m, in \u001b[36mevaluar_credito\u001b[39m\u001b[34m(solicitante, proyecto)\u001b[39m\n\u001b[32m      1\u001b[39m \u001b[38;5;28;01mdef\u001b[39;00m\u001b[38;5;250m \u001b[39m\u001b[34mevaluar_credito\u001b[39m(solicitante, proyecto):\n\u001b[32m      2\u001b[39m     \u001b[38;5;28mprint\u001b[39m(\u001b[33mf\u001b[39m\u001b[33m\"\u001b[39m\u001b[33mEvaluando crédito para \u001b[39m\u001b[38;5;132;01m{\u001b[39;00msolicitante\u001b[38;5;132;01m}\u001b[39;00m\u001b[33m y proyecto \u001b[39m\u001b[38;5;132;01m{\u001b[39;00mproyecto\u001b[38;5;132;01m}\u001b[39;00m\u001b[33m\"\u001b[39m)\n\u001b[32m----> \u001b[39m\u001b[32m3\u001b[39m     decisiones, justificaciones = \u001b[43maplicar_reglas\u001b[49m\u001b[43m(\u001b[49m\u001b[43msolicitante\u001b[49m\u001b[43m,\u001b[49m\u001b[43m \u001b[49m\u001b[43mproyecto\u001b[49m\u001b[43m)\u001b[49m\n\u001b[32m      4\u001b[39m     decision_final = priorizar_recomendaciones(decisiones)\n\u001b[32m      5\u001b[39m     \u001b[38;5;28mprint\u001b[39m(\u001b[33mf\u001b[39m\u001b[33m\"\u001b[39m\u001b[33mDecision priorizada: \u001b[39m\u001b[38;5;132;01m{\u001b[39;00mdecision_final\u001b[38;5;132;01m}\u001b[39;00m\u001b[33m\"\u001b[39m)\n",
      "\u001b[36mCell\u001b[39m\u001b[36m \u001b[39m\u001b[32mIn[72]\u001b[39m\u001b[32m, line 18\u001b[39m, in \u001b[36maplicar_reglas\u001b[39m\u001b[34m(solicitante, proyecto)\u001b[39m\n\u001b[32m     16\u001b[39m \u001b[38;5;28;01melif\u001b[39;00m valor == \u001b[33m\"\u001b[39m\u001b[33mFalse\u001b[39m\u001b[33m\"\u001b[39m:\n\u001b[32m     17\u001b[39m     valor = \u001b[38;5;28;01mFalse\u001b[39;00m\n\u001b[32m---> \u001b[39m\u001b[32m18\u001b[39m encontrado = \u001b[38;5;28;43many\u001b[39;49m\u001b[43m(\u001b[49m\n\u001b[32m     19\u001b[39m \u001b[43m    \u001b[49m\u001b[43mh\u001b[49m\u001b[43m[\u001b[49m\u001b[33;43m\"\u001b[39;49m\u001b[33;43mcondición\u001b[39;49m\u001b[33;43m\"\u001b[39;49m\u001b[43m]\u001b[49m\u001b[43m \u001b[49m\u001b[43m==\u001b[49m\u001b[43m \u001b[49m\u001b[43mclave\u001b[49m\u001b[43m \u001b[49m\u001b[38;5;129;43;01mand\u001b[39;49;00m\u001b[43m \u001b[49m\u001b[43mh\u001b[49m\u001b[43m[\u001b[49m\u001b[33;43m\"\u001b[39;49m\u001b[33;43mvalor\u001b[39;49m\u001b[33;43m\"\u001b[39;49m\u001b[43m]\u001b[49m\u001b[43m \u001b[49m\u001b[43m==\u001b[49m\u001b[43m \u001b[49m\u001b[43mvalor\u001b[49m\n\u001b[32m     20\u001b[39m \u001b[43m    \u001b[49m\u001b[38;5;28;43;01mfor\u001b[39;49;00m\u001b[43m \u001b[49m\u001b[43mh\u001b[49m\u001b[43m \u001b[49m\u001b[38;5;129;43;01min\u001b[39;49;00m\u001b[43m \u001b[49m\u001b[43mhechos\u001b[49m\n\u001b[32m     21\u001b[39m \u001b[43m\u001b[49m\u001b[43m)\u001b[49m\n\u001b[32m     22\u001b[39m \u001b[38;5;28;01mif\u001b[39;00m \u001b[38;5;129;01mnot\u001b[39;00m encontrado:\n\u001b[32m     23\u001b[39m     cumple = \u001b[38;5;28;01mFalse\u001b[39;00m\n",
      "\u001b[36mCell\u001b[39m\u001b[36m \u001b[39m\u001b[32mIn[72]\u001b[39m\u001b[32m, line 19\u001b[39m, in \u001b[36m<genexpr>\u001b[39m\u001b[34m(.0)\u001b[39m\n\u001b[32m     16\u001b[39m \u001b[38;5;28;01melif\u001b[39;00m valor == \u001b[33m\"\u001b[39m\u001b[33mFalse\u001b[39m\u001b[33m\"\u001b[39m:\n\u001b[32m     17\u001b[39m     valor = \u001b[38;5;28;01mFalse\u001b[39;00m\n\u001b[32m     18\u001b[39m encontrado = \u001b[38;5;28many\u001b[39m(\n\u001b[32m---> \u001b[39m\u001b[32m19\u001b[39m     \u001b[43mh\u001b[49m\u001b[43m[\u001b[49m\u001b[33;43m\"\u001b[39;49m\u001b[33;43mcondición\u001b[39;49m\u001b[33;43m\"\u001b[39;49m\u001b[43m]\u001b[49m == clave \u001b[38;5;129;01mand\u001b[39;00m h[\u001b[33m\"\u001b[39m\u001b[33mvalor\u001b[39m\u001b[33m\"\u001b[39m] == valor\n\u001b[32m     20\u001b[39m     \u001b[38;5;28;01mfor\u001b[39;00m h \u001b[38;5;129;01min\u001b[39;00m hechos\n\u001b[32m     21\u001b[39m )\n\u001b[32m     22\u001b[39m \u001b[38;5;28;01mif\u001b[39;00m \u001b[38;5;129;01mnot\u001b[39;00m encontrado:\n\u001b[32m     23\u001b[39m     cumple = \u001b[38;5;28;01mFalse\u001b[39;00m\n",
      "\u001b[31mKeyError\u001b[39m: 'condición'"
     ]
    }
   ],
   "source": [
    "evaluar_credito(\"Juan\", \"Edificio Verde\")\n",
    "evaluar_credito(\"Ana\", \"Fabrica\")\n",
    "evaluar_credito(\"Luis\", \"Planta Solar\")"
   ]
  }
 ],
 "metadata": {
  "kernelspec": {
   "display_name": "Python 3",
   "language": "python",
   "name": "python3"
  },
  "language_info": {
   "codemirror_mode": {
    "name": "ipython",
    "version": 3
   },
   "file_extension": ".py",
   "mimetype": "text/x-python",
   "name": "python",
   "nbconvert_exporter": "python",
   "pygments_lexer": "ipython3",
   "version": "3.12.4"
  }
 },
 "nbformat": 4,
 "nbformat_minor": 5
}
