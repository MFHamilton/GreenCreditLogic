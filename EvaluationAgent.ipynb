{
 "cells": [
  {
   "cell_type": "code",
   "execution_count": null,
   "id": "899db271",
   "metadata": {},
   "outputs": [
    {
     "name": "stdout",
     "output_type": "stream",
     "text": [
      "Hello World!\n"
     ]
    }
   ],
   "source": [
    "# Base de Conocimiento (KB)\n",
    "KB = {\n",
    "        \"Hechos\": [\n",
    "    ],\n",
    "    \"Reglas\": [\n",
    "        {\"condición\": \"RiesgoBajoEficienciaEnergetica\", \"acción\": \"AprobarSinCondiciones\"},\n",
    "        {\"condición\": \"EndeudamientoMedioImpactoModerado\", \"acción\": \"AprobarCondicionadoGarantías\"},\n",
    "        {\"condición\": \"RiesgoAltoImpactoNegrativo\", \"acción\": \"Rechazar\"},\n",
    "        #{\"condición\": \"CompraSmartphone ∧ PrefiereMarca\", \"acción\": \"RecomendarAccesoriosSmartphoneMarca\"}\n",
    "    ]\n",
    "}"
   ]
  },
  {
   "cell_type": "code",
   "execution_count": null,
   "id": "2af82d2d",
   "metadata": {},
   "outputs": [],
   "source": [
    "# Motor de Inferencia\n",
    "def aplicar_reglas(KB, usuario, acción, producto):\n",
    "    recomendaciones = []\n",
    "    print(f\"2. Evaluando reglas para Usuario = {usuario} // Acción = {acción} // Producto = {producto}\")\n",
    "\n",
    "    for regla in KB[\"Reglas\"]:\n",
    "        if coincide_regla(regla, usuario, acción, producto):\n",
    "            resultado = deducir_recomendación(regla, usuario)\n",
    "            recomendaciones.extend(resultado)\n",
    "            print(f\"3. Regla aplicada: {regla['condición']}, Resultado: {resultado}\")\n",
    "    \n",
    "    return recomendaciones\n",
    "\n",
    "def coincide_regla(regla, usuario, acción, producto):\n",
    "    acción_lower = acción.lower()\n",
    "    producto_lower = producto.lower()\n",
    "    \n",
    "    if \"CompraComputadoraPortatil\".lower() in regla[\"condición\"].lower() and acción_lower == \"compró\":\n",
    "        return \"computadora portátil\" in producto_lower # Retorna TRUE cuando la condición coincide con producto_lower\n",
    "    elif \"CompraTecladoMecanico\".lower() in regla[\"condición\"].lower() and acción_lower == \"compró\":\n",
    "        return \"teclado mecánico\" in producto_lower # Retorna TRUE cuando la condición coincide con producto_lower\n",
    "    elif \"VisitaCategoria\".lower() in regla[\"condición\"].lower() and acción_lower == \"visitó\":\n",
    "        return \"silla ergonómica\" in producto_lower # Retorna TRUE cuando la condición coincide con producto_lower\n",
    "    elif \"PrefiereMarca\".lower() in regla[\"condición\"].lower():\n",
    "        preferencia = next((hecho.get(\"preferencia\", {}).get(\"marca\") for hecho in KB[\"Hechos\"] if hecho[\"usuario\"] == usuario), None)\n",
    "        return preferencia and preferencia.lower() in regla[\"condición\"].lower() # Retorna TRUE cuando la condición coincide con producto_lower\n",
    "    return False\n",
    "\n",
    "def deducir_recomendación(regla, usuario):\n",
    "    if regla[\"acción\"] == \"RecomendarAccesoriosComputadora\":\n",
    "        return [\"Mouse\", \"Teclado\", \"Funda\"]\n",
    "    elif regla[\"acción\"] == \"RecomendarAccesoriosTeclado\":\n",
    "        return [\"Reposamuñecas\", \"Alfombrilla de teclado\"]\n",
    "    elif regla[\"acción\"] == \"RecomendarProductoCategoria\":\n",
    "        return [\"Soporte de monitor\", \"Escritorio ajustable\"]\n",
    "    elif regla[\"acción\"] == \"RecomendarAccesoriosSmartphoneMarca\":\n",
    "        return [\"Funda\", \"Protector de pantalla\", \"Cargador\"]\n",
    "    return []\n"
   ]
  },
  {
   "cell_type": "code",
   "execution_count": null,
   "id": "c5c04ab8",
   "metadata": {},
   "outputs": [],
   "source": [
    "# Proceso de Recomendación\n",
    "def recomendar_productos(usuario, acción, producto):\n",
    "    print(f\"1. Procesando hecho: Usuario = {usuario} // Acción = {acción} // Producto = {producto}\")\n",
    "    recomendaciones = aplicar_reglas(KB, usuario, acción, producto)\n",
    "    recomendaciones_priorizadas = priorizar_recomendaciones(recomendaciones, usuario)\n",
    "    mostrar_recomendaciones(usuario, recomendaciones_priorizadas)\n",
    "    registrar_interacción(KB, usuario, acción, producto)\n",
    "\n",
    "def registrar_interacción(KB, usuario, acción, producto):\n",
    "    # Validar antes de registrar si los campos existen\n",
    "    if producto:\n",
    "        KB[\"Hechos\"].append({\"usuario\": usuario, \"acción\": acción, \"producto\": producto})\n",
    "    else:\n",
    "        KB[\"Hechos\"].append({\"usuario\": usuario, \"acción\": acción})\n",
    "\n",
    "def priorizar_recomendaciones(recomendaciones, usuario):\n",
    "    return sorted(recomendaciones, key=lambda x: calcular_puntaje(x, usuario), reverse=True)\n",
    "\n",
    "def calcular_puntaje(producto, usuario):\n",
    "    puntaje = 0\n",
    "    if producto in historial_usuario(usuario):\n",
    "        puntaje += 10\n",
    "    if es_popular(producto):\n",
    "        puntaje += 5\n",
    "    if tiene_promocion(producto):\n",
    "        puntaje += 3\n",
    "    return puntaje\n",
    "    \n",
    "def mostrar_recomendaciones(usuario, recomendaciones):\n",
    "    if recomendaciones:\n",
    "        print(f\"4. Recomendaciones para Usuario {usuario}: {', '.join(recomendaciones)}\")\n",
    "    else:\n",
    "        print(f\"3. Recomendaciones para Usuario {usuario}: Ninguna disponible.\")"
   ]
  },
  {
   "cell_type": "code",
   "execution_count": null,
   "id": "48fd9e6c",
   "metadata": {},
   "outputs": [],
   "source": [
    "# Utilidades\n",
    "def historial_usuario(usuario):\n",
    "    return [hecho.get(\"producto\", \"\") for hecho in KB[\"Hechos\"] if hecho[\"usuario\"] == usuario]\n",
    "\n",
    "def es_popular(producto):\n",
    "    populares = [\"Mouse\", \"Teclado\", \"Funda\", \"Escritorio ajustable\"]\n",
    "    return producto in populares\n",
    "\n",
    "def tiene_promocion(producto):\n",
    "    promociones = [\"Reposamuñecas\", \"Protector de pantalla\", \"Funda\"]\n",
    "    return producto in promociones"
   ]
  },
  {
   "cell_type": "code",
   "execution_count": null,
   "id": "c52f1fc6",
   "metadata": {},
   "outputs": [],
   "source": [
    "# Ejecución del sistema\n",
    "recomendar_productos(\"A\", \"compró\", \"computadora portátil\")\n",
    "print(\"***********************************************************************\")\n",
    "recomendar_productos(\"B\", \"visitó\", \"silla ergonómica\")\n",
    "\n",
    "print(\"***********************************************************************\")\n",
    "print(KB)"
   ]
  }
 ],
 "metadata": {
  "kernelspec": {
   "display_name": "Python 3",
   "language": "python",
   "name": "python3"
  },
  "language_info": {
   "codemirror_mode": {
    "name": "ipython",
    "version": 3
   },
   "file_extension": ".py",
   "mimetype": "text/x-python",
   "name": "python",
   "nbconvert_exporter": "python",
   "pygments_lexer": "ipython3",
   "version": "3.11.9"
  }
 },
 "nbformat": 4,
 "nbformat_minor": 5
}
