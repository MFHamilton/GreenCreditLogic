{
 "cells": [
  {
   "cell_type": "code",
   "execution_count": 1,
   "id": "899db271",
   "metadata": {},
   "outputs": [],
   "source": [
    "KB = {\n",
    "    \"Hechos\": [],\n",
    "    \"Reglas\": [\n",
    "        {\"condición\": \"riesgo=bajo && eficiencia_energetica=True\", \"decisión\": \"Aprobado\"},\n",
    "        {\"condición\": \"riesgo=alto && impacto_ambiental=negativo\", \"decisión\": \"Rechazado\"},\n",
    "        {\"condición\": \"riesgo=medio && impacto_ambiental=positivo && cofinanciamiento=True\", \"decisión\": \"AprobadoCondicionadoMitigaciónSeguimiento\"}\n",
    "    ]\n",
    "}"
   ]
  },
  {
   "cell_type": "code",
   "execution_count": 2,
   "id": "2af82d2d",
   "metadata": {},
   "outputs": [],
   "source": [
    "def agregar_hecho(solicitante, proyecto, condición, valor):\n",
    "    KB[\"Hechos\"].append({\n",
    "        \"solicitante\": solicitante,\n",
    "        \"proyecto\": proyecto,\n",
    "        \"condición\": condición,\n",
    "        \"valor\": valor\n",
    "    })"
   ]
  },
  {
   "cell_type": "code",
   "execution_count": 3,
   "id": "c5c04ab8",
   "metadata": {},
   "outputs": [],
   "source": [
    "def hechos_de(solicitante, proyecto):\n",
    "    return [h for h in KB[\"Hechos\"] if h[\"solicitante\"] == solicitante and h[\"proyecto\"] == proyecto]"
   ]
  },
  {
   "cell_type": "code",
   "execution_count": 4,
   "id": "48fd9e6c",
   "metadata": {},
   "outputs": [],
   "source": [
    "def aplicar_reglas(solicitante, proyecto):\n",
    "    hechos = hechos_de(solicitante, proyecto)\n",
    "    decisiones = []\n",
    "    justificaciones = []\n",
    "    for regla in KB[\"Reglas\"]:\n",
    "        condiciones = regla[\"condición\"].split(\"&&\")\n",
    "        cumple = True\n",
    "        for cond in condiciones:\n",
    "            cond = cond.strip()\n",
    "            if \"=\" in cond:\n",
    "                clave, valor = cond.split(\"=\")\n",
    "                clave = clave.strip()\n",
    "                valor = valor.strip()\n",
    "                if valor == \"True\":\n",
    "                    valor = True\n",
    "                elif valor == \"False\":\n",
    "                    valor = False\n",
    "                encontrado = any(\n",
    "                    h[\"condición\"] == clave and h[\"valor\"] == valor\n",
    "                    for h in hechos\n",
    "                )\n",
    "                if not encontrado:\n",
    "                    cumple = False\n",
    "                    break\n",
    "        if cumple:\n",
    "            decisiones.append(regla[\"decisión\"])\n",
    "            justificaciones.append(regla[\"condición\"])\n",
    "    return decisiones, justificaciones"
   ]
  },
  {
   "cell_type": "code",
   "execution_count": 5,
   "id": "c52f1fc6",
   "metadata": {},
   "outputs": [],
   "source": [
    "def priorizar_recomendaciones(decisiones):\n",
    "    prioridad = {\n",
    "        \"Aprobado\": 3,\n",
    "        \"AprobadoCondicionadoMitigaciónSeguimiento\": 2,\n",
    "        \"Rechazado\": 0\n",
    "    }\n",
    "    if not decisiones:\n",
    "        return \"Sin decisión\"\n",
    "    return sorted(decisiones, key=lambda d: prioridad.get(d, -1), reverse=True)[0]"
   ]
  },
  {
   "cell_type": "code",
   "execution_count": 6,
   "id": "76842f9b",
   "metadata": {},
   "outputs": [],
   "source": [
    "def evaluar_credito(solicitante, proyecto):\n",
    "    print(f\"Evaluando crédito para {solicitante} y proyecto {proyecto}\")\n",
    "    decisiones, justificaciones = aplicar_reglas(solicitante, proyecto)\n",
    "    decision_final = priorizar_recomendaciones(decisiones)\n",
    "    print(f\"Decisión priorizada: {decision_final}\")\n",
    "    print(f\"Justificación: {justificaciones}\")\n",
    "    print(\"---\")"
   ]
  },
  {
   "cell_type": "code",
   "execution_count": 7,
   "id": "456190c4",
   "metadata": {},
   "outputs": [],
   "source": [
    "agregar_hecho(\"Juan\", \"Edificio Verde\", \"riesgo\", \"bajo\")\n",
    "agregar_hecho(\"Juan\", \"Edificio Verde\", \"eficiencia_energetica\", True)\n",
    "\n",
    "agregar_hecho(\"Ana\", \"Fabrica\", \"riesgo\", \"alto\")\n",
    "agregar_hecho(\"Ana\", \"Fabrica\", \"impacto_ambiental\", \"negativo\")\n",
    "\n",
    "agregar_hecho(\"Luis\", \"Planta Solar\", \"riesgo\", \"medio\")\n",
    "agregar_hecho(\"Luis\", \"Planta Solar\", \"impacto_ambiental\", \"positivo\")\n",
    "agregar_hecho(\"Luis\", \"Planta Solar\", \"cofinanciamiento\", True)"
   ]
  },
  {
   "cell_type": "code",
   "execution_count": 8,
   "id": "8587bb23",
   "metadata": {},
   "outputs": [
    {
     "name": "stdout",
     "output_type": "stream",
     "text": [
      "Evaluando crédito para Juan y proyecto Edificio Verde\n",
      "Decisión priorizada: Aprobado\n",
      "Justificación: ['riesgo=bajo && eficiencia_energetica=True']\n",
      "---\n",
      "Evaluando crédito para Ana y proyecto Fabrica\n",
      "Decisión priorizada: Rechazado\n",
      "Justificación: ['riesgo=alto && impacto_ambiental=negativo']\n",
      "---\n",
      "Evaluando crédito para Luis y proyecto Planta Solar\n",
      "Decisión priorizada: AprobadoCondicionadoMitigaciónSeguimiento\n",
      "Justificación: ['riesgo=medio && impacto_ambiental=positivo && cofinanciamiento=True']\n",
      "---\n"
     ]
    }
   ],
   "source": [
    "evaluar_credito(\"Juan\", \"Edificio Verde\")\n",
    "evaluar_credito(\"Ana\", \"Fabrica\")\n",
    "evaluar_credito(\"Luis\", \"Planta Solar\")"
   ]
  }
 ],
 "metadata": {
  "kernelspec": {
   "display_name": "Python 3",
   "language": "python",
   "name": "python3"
  },
  "language_info": {
   "codemirror_mode": {
    "name": "ipython",
    "version": 3
   },
   "file_extension": ".py",
   "mimetype": "text/x-python",
   "name": "python",
   "nbconvert_exporter": "python",
   "pygments_lexer": "ipython3",
   "version": "3.11.9"
  }
 },
 "nbformat": 4,
 "nbformat_minor": 5
}
