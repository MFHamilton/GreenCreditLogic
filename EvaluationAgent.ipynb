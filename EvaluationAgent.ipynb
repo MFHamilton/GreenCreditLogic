{
 "cells": [
  {
   "cell_type": "code",
   "execution_count": 100,
   "id": "899db271",
   "metadata": {},
   "outputs": [],
   "source": [
    "# Base de Conocimiento\n",
    "KB = {\n",
    "    \"Hechos\": [\n",
    "        \n",
    "    ],\n",
    "    \"Reglas\": [\n",
    "        {\n",
    "            \"condicion\": [\"riesgo=bajo\", \"eficiencia_energetica=True\"], \n",
    "            \"decision\": \"Aprobado\"\n",
    "        },\n",
    "        {\n",
    "            \"condicion\": [\"riesgo=alto\", \"impacto_ambiental=negativo\"],\n",
    "            \"decision\": \"Rechazado\"\n",
    "        },\n",
    "        {\n",
    "            \"condicion\": [\"endeudamiento=medio\", \"impacto_ambiental=moderado\"],\n",
    "            \"decision\": \"AprobarCondicionadoGarantia\"\n",
    "        }\n",
    "    ],\n",
    "    \"ReglasCombinadas\": [\n",
    "        {\n",
    "            \"condicion\": [\"riesgo=medio\", \"impacto_ambiental=positivo\", \"cofinanciamiento=True\"], \n",
    "            \"decision\": \"AprobadoCondicionadoMitigaciónSeguimiento\",\n",
    "            \"FactoresAdicionales\": [\"ApoyoComunitario\"]\n",
    "        },\n",
    "        {\n",
    "            \"condicion\":[\"riesgo=alto\", \"eficiencia_energetica=False\", \"impacto_ambiental=negativo\"],\n",
    "            \"decision\": \"RechazadoDefinitivo\",\n",
    "            \"FactoresAdicionales\": [\"RechazoComunitario\"]\n",
    "        },\n",
    "    ]\n",
    "}"
   ]
  },
  {
   "cell_type": "code",
   "execution_count": 101,
   "id": "d4ecd518",
   "metadata": {},
   "outputs": [],
   "source": [
    "# Recopilación de Datos\n",
    "def recopilar_datos(info_cliente):\n",
    "    hechos = {info: True for info in info_cliente}\n",
    "    print(\"Datos recopilados:\", info_cliente)\n",
    "    return hechos"
   ]
  },
  {
   "cell_type": "code",
   "execution_count": 102,
   "id": "b1033e29",
   "metadata": {},
   "outputs": [],
   "source": [
    "# Aplicación de Reglas Específicas\n",
    "def aplicar_reglas_especificas(KB, hechos):\n",
    "    resultado = []\n",
    "    for i, regla in enumerate(KB[\"Reglas\"], 1):\n",
    "        if verificar_condicion(hechos, regla[\"condicion\"]):\n",
    "            resultado.append({\n",
    "                \"decision\": regla[\"decision\"],\n",
    "                \"condicion\": regla[\"condicion\"],\n",
    "                \"regla_num\": i\n",
    "            })\n",
    "            print(f\"Regla específica #{i} activada: condición = {regla['condicion']} => decisión = {regla['decision']}\")\n",
    "    return resultado"
   ]
  },
  {
   "cell_type": "code",
   "execution_count": 103,
   "id": "afd89bca",
   "metadata": {},
   "outputs": [],
   "source": [
    "# Aplicación de Reglas Combinadas\n",
    "def aplicar_reglas_combinadas(KB, hechos, factores_adicionales):\n",
    "    resultados_combinados = []\n",
    "    for regla in KB[\"ReglasCombinadas\"]:\n",
    "        if (verificar_condicion(hechos, regla[\"condicion\"]) and\n",
    "                verificar_factores(factores_adicionales, regla[\"FactoresAdicionales\"])):\n",
    "            resultados_combinados.append(regla[\"decision\"])\n",
    "            print(f\"Regla combinada activada: {regla['decision']}\")\n",
    "    return resultados_combinados"
   ]
  },
  {
   "cell_type": "code",
   "execution_count": 104,
   "id": "1e33b5c5",
   "metadata": {},
   "outputs": [],
   "source": [
    "# Funciones Auxiliares\n",
    "def verificar_condicion(hechos, condicion):\n",
    "    for condic in condicion:\n",
    "        if condic not in hechos:\n",
    "            return False\n",
    "    return True\n",
    "\n",
    "def verificar_factores(factores_adicionales, factores_requeridos):\n",
    "    # Solo verifica si el nombre del factor está presente en algún hecho\n",
    "    for factor in factores_requeridos:\n",
    "        if not any(factor.lower() in h.lower() for h in factores_adicionales):\n",
    "            return False\n",
    "    return True"
   ]
  },
  {
   "cell_type": "code",
   "execution_count": 105,
   "id": "2af82d2d",
   "metadata": {},
   "outputs": [],
   "source": [
    "\n",
    "def agregar_hecho(solicitante, proyecto, condicion, valor):\n",
    "    KB[\"Hechos\"].append({\n",
    "        \"solicitante\": solicitante,\n",
    "        \"proyecto\": proyecto,\n",
    "        \"condicion\": condicion,\n",
    "        \"valor\": valor\n",
    "    })"
   ]
  },
  {
   "cell_type": "code",
   "execution_count": 106,
   "id": "c5c04ab8",
   "metadata": {},
   "outputs": [],
   "source": [
    "def hechos_de(solicitante, proyecto):\n",
    "    return [h for h in KB[\"Hechos\"] if h[\"solicitante\"] == solicitante and h[\"proyecto\"] == proyecto]"
   ]
  },
  {
   "cell_type": "code",
   "execution_count": 107,
   "id": "40d19c7b",
   "metadata": {},
   "outputs": [],
   "source": [
    "def evaluar_credito(info_cliente):\n",
    "    # Recopilación de datos\n",
    "    hechos = recopilar_datos(info_cliente)"
   ]
  },
  {
   "cell_type": "code",
   "execution_count": 108,
   "id": "c6514970",
   "metadata": {},
   "outputs": [
    {
     "data": {
      "text/plain": [
       "'\\n\\nKB[\"Hechos\"] = []\\n\\n# Agregar hechos de ejemplo\\nagregar_hecho(\"Juan\", \"Edificio Verde\", \"riesgo\", \"bajo\")\\nagregar_hecho(\"Juan\", \"Edificio Verde\", \"eficiencia_energetica\", True)\\n\\nagregar_hecho(\"Ana\", \"Fabrica\", \"riesgo\", \"alto\")\\nagregar_hecho(\"Ana\", \"Fabrica\", \"impacto_ambiental\", \"negativo\")\\n\\nagregar_hecho(\"Luis\", \"Planta Solar\", \"riesgo\", \"medio\")\\nagregar_hecho(\"Luis\", \"Planta Solar\", \"impacto_ambiental\", \"positivo\")\\nagregar_hecho(\"Luis\", \"Planta Solar\", \"cofinanciamiento\", True)\\nagregar_hecho(\"Luis\", \"Planta Solar\", \"ApoyoComunitario\", True)\\n\\n# Usar hechos_de para cada solicitante/proyecto\\nhechos_juan = hechos_de(\"Juan\", \"Edificio Verde\")\\nhechos_ana = hechos_de(\"Ana\", \"Fabrica\")\\nhechos_luis = hechos_de(\"Luis\", \"Planta Solar\")\\n\\n# Convertir hechos a formato string para las funciones de reglas\\nhechos_juan_str = [f\"{h[\\'condicion\\']}={h[\\'valor\\']}\" for h in hechos_juan]\\nhechos_ana_str = [f\"{h[\\'condicion\\']}={h[\\'valor\\']}\" for h in hechos_ana]\\nhechos_luis_str = [f\"{h[\\'condicion\\']}={h[\\'valor\\']}\" for h in hechos_luis]\\n\\n# Probar funciones de reglas específicas y combinadas\\nprint(\"--- Juan / Edificio Verde ---\")\\nres_especificas_juan = aplicar_reglas_especificas(KB, hechos_juan_str)\\nres_combinadas_juan = aplicar_reglas_combinadas(KB, hechos_juan_str, hechos_juan_str)\\nprint(\"Reglas específicas:\", res_especificas_juan)\\nprint(\"Reglas combinadas:\", res_combinadas_juan)\\n\\nprint(\"\\n--- Ana / Fabrica ---\")\\nres_especificas_ana = aplicar_reglas_especificas(KB, hechos_ana_str)\\nres_combinadas_ana = aplicar_reglas_combinadas(KB, hechos_ana_str, hechos_ana_str)\\nprint(\"Reglas específicas:\", res_especificas_ana)\\nprint(\"Reglas combinadas:\", res_combinadas_ana)\\n\\nprint(\"\\n--- Luis / Planta Solar ---\")\\nres_especificas_luis = aplicar_reglas_especificas(KB, hechos_luis_str)\\nres_combinadas_luis = aplicar_reglas_combinadas(KB, hechos_luis_str, hechos_luis_str)\\nprint(\"Reglas específicas:\", res_especificas_luis)\\nprint(\"Reglas combinadas:\", res_combinadas_luis)\\n'"
      ]
     },
     "execution_count": 108,
     "metadata": {},
     "output_type": "execute_result"
    }
   ],
   "source": [
    "'''\n",
    "\n",
    "KB[\"Hechos\"] = []\n",
    "\n",
    "# Agregar hechos de ejemplo\n",
    "agregar_hecho(\"Juan\", \"Edificio Verde\", \"riesgo\", \"bajo\")\n",
    "agregar_hecho(\"Juan\", \"Edificio Verde\", \"eficiencia_energetica\", True)\n",
    "\n",
    "agregar_hecho(\"Ana\", \"Fabrica\", \"riesgo\", \"alto\")\n",
    "agregar_hecho(\"Ana\", \"Fabrica\", \"impacto_ambiental\", \"negativo\")\n",
    "\n",
    "agregar_hecho(\"Luis\", \"Planta Solar\", \"riesgo\", \"medio\")\n",
    "agregar_hecho(\"Luis\", \"Planta Solar\", \"impacto_ambiental\", \"positivo\")\n",
    "agregar_hecho(\"Luis\", \"Planta Solar\", \"cofinanciamiento\", True)\n",
    "agregar_hecho(\"Luis\", \"Planta Solar\", \"ApoyoComunitario\", True)\n",
    "\n",
    "# Usar hechos_de para cada solicitante/proyecto\n",
    "hechos_juan = hechos_de(\"Juan\", \"Edificio Verde\")\n",
    "hechos_ana = hechos_de(\"Ana\", \"Fabrica\")\n",
    "hechos_luis = hechos_de(\"Luis\", \"Planta Solar\")\n",
    "\n",
    "# Convertir hechos a formato string para las funciones de reglas\n",
    "hechos_juan_str = [f\"{h['condicion']}={h['valor']}\" for h in hechos_juan]\n",
    "hechos_ana_str = [f\"{h['condicion']}={h['valor']}\" for h in hechos_ana]\n",
    "hechos_luis_str = [f\"{h['condicion']}={h['valor']}\" for h in hechos_luis]\n",
    "\n",
    "# Probar funciones de reglas específicas y combinadas\n",
    "print(\"--- Juan / Edificio Verde ---\")\n",
    "res_especificas_juan = aplicar_reglas_especificas(KB, hechos_juan_str)\n",
    "res_combinadas_juan = aplicar_reglas_combinadas(KB, hechos_juan_str, hechos_juan_str)\n",
    "print(\"Reglas específicas:\", res_especificas_juan)\n",
    "print(\"Reglas combinadas:\", res_combinadas_juan)\n",
    "\n",
    "print(\"\\n--- Ana / Fabrica ---\")\n",
    "res_especificas_ana = aplicar_reglas_especificas(KB, hechos_ana_str)\n",
    "res_combinadas_ana = aplicar_reglas_combinadas(KB, hechos_ana_str, hechos_ana_str)\n",
    "print(\"Reglas específicas:\", res_especificas_ana)\n",
    "print(\"Reglas combinadas:\", res_combinadas_ana)\n",
    "\n",
    "print(\"\\n--- Luis / Planta Solar ---\")\n",
    "res_especificas_luis = aplicar_reglas_especificas(KB, hechos_luis_str)\n",
    "res_combinadas_luis = aplicar_reglas_combinadas(KB, hechos_luis_str, hechos_luis_str)\n",
    "print(\"Reglas específicas:\", res_especificas_luis)\n",
    "print(\"Reglas combinadas:\", res_combinadas_luis)\n",
    "'''"
   ]
  },
  {
   "cell_type": "code",
   "execution_count": null,
   "id": "416416f7",
   "metadata": {},
   "outputs": [
    {
     "data": {
      "text/plain": [
       "'\\n# Ejemplo de Ejecución\\nsintomas_paciente = [\"riesgo=bajo\", \"eficiencia_energetica=True\"]\\n\\nevaluar_credito(sintomas_paciente)\\n'"
      ]
     },
     "execution_count": 109,
     "metadata": {},
     "output_type": "execute_result"
    }
   ],
   "source": [
    "'''\n",
    "# Ejemplo de Ejecución\n",
    "sintomas_paciente = [\"riesgo=bajo\", \"eficiencia_energetica=True\"]\n",
    "\n",
    "evaluar_credito(sintomas_paciente)``\n",
    "'''"
   ]
  },
  {
   "cell_type": "code",
   "execution_count": 110,
   "id": "08622280",
   "metadata": {},
   "outputs": [
    {
     "name": "stdout",
     "output_type": "stream",
     "text": [
      "{'Hechos': [], 'Reglas': [{'condicion': ['riesgo=bajo', 'eficiencia_energetica=True'], 'decision': 'Aprobado'}, {'condicion': ['riesgo=alto', 'impacto_ambiental=negativo'], 'decision': 'Rechazado'}, {'condicion': ['endeudamiento=medio', 'impacto_ambiental=moderado'], 'decision': 'AprobarCondicionadoGarantia'}], 'ReglasCombinadas': [{'condicion': ['riesgo=medio', 'impacto_ambiental=positivo', 'cofinanciamiento=True'], 'decision': 'AprobadoCondicionadoMitigaciónSeguimiento', 'FactoresAdicionales': ['ApoyoComunitario']}, {'condicion': ['riesgo=alto', 'eficiencia_energetica=False', 'impacto_ambiental=negativo'], 'decision': 'RechazadoDefinitivo', 'FactoresAdicionales': ['RechazoComunitario']}]}\n"
     ]
    }
   ],
   "source": [
    "print(KB)"
   ]
  },
  {
   "cell_type": "code",
   "execution_count": null,
   "id": "29e3a11f",
   "metadata": {},
   "outputs": [
    {
     "name": "stdout",
     "output_type": "stream",
     "text": [
      "\n",
      "--- Juan / Edificio Verde ---\n",
      "Regla específica #1 activada: condición = ['riesgo=bajo', 'eficiencia_energetica=True'] => decisión = Aprobado\n",
      "Reglas específicas:\n",
      "  Regla #1: condición = ['riesgo=bajo', 'eficiencia_energetica=True'] => decisión = Aprobado\n",
      "Reglas combinadas:\n",
      "  Ninguna regla combinada aplicada.\n",
      "\n",
      "--- Ana / Fabrica ---\n",
      "Regla específica #2 activada: condición = ['riesgo=alto', 'impacto_ambiental=negativo'] => decisión = Rechazado\n",
      "Reglas específicas:\n",
      "  Regla #2: condición = ['riesgo=alto', 'impacto_ambiental=negativo'] => decisión = Rechazado\n",
      "Reglas combinadas:\n",
      "  Ninguna regla combinada aplicada.\n",
      "\n",
      "--- Luis / Planta Solar ---\n",
      "Regla combinada activada: AprobadoCondicionadoMitigaciónSeguimiento\n",
      "Reglas específicas:\n",
      "  Ninguna regla específica aplicada.\n",
      "Reglas combinadas:\n",
      "  Decisión combinada: AprobadoCondicionadoMitigaciónSeguimiento\n"
     ]
    }
   ],
   "source": [
    "\n",
    "def main():\n",
    "    KB[\"Hechos\"] = []\n",
    "    # Datos de prueba\n",
    "    datos = [\n",
    "        {\"solicitante\": \"Juan\", \"proyecto\": \"Edificio Verde\", \"hechos\": [\n",
    "            (\"riesgo\", \"bajo\"),\n",
    "            (\"eficiencia_energetica\", True)\n",
    "        ]},\n",
    "        {\"solicitante\": \"Ana\", \"proyecto\": \"Fabrica\", \"hechos\": [\n",
    "            (\"riesgo\", \"alto\"),\n",
    "            (\"impacto_ambiental\", \"negativo\")\n",
    "        ]},\n",
    "        {\"solicitante\": \"Luis\", \"proyecto\": \"Planta Solar\", \"hechos\": [\n",
    "            (\"riesgo\", \"medio\"),\n",
    "            (\"impacto_ambiental\", \"positivo\"),\n",
    "            (\"cofinanciamiento\", True),\n",
    "            (\"ApoyoComunitario\", None)\n",
    "        ]}\n",
    "    ]\n",
    "\n",
    "    for d in datos:\n",
    "        for cond, val in d[\"hechos\"]:\n",
    "            agregar_hecho(d[\"solicitante\"], d[\"proyecto\"], cond, val)\n",
    "\n",
    "    for d in datos:\n",
    "        hechos = hechos_de(d[\"solicitante\"], d[\"proyecto\"])\n",
    "        hechos_str = [f\"{h['condicion']}={h['valor']}\" for h in hechos]\n",
    "        print(f\"\\n--- {d['solicitante']} / {d['proyecto']} ---\")\n",
    "        res_especificas = aplicar_reglas_especificas(KB, hechos_str)\n",
    "        res_combinadas = aplicar_reglas_combinadas(KB, hechos_str, hechos_str)\n",
    "        print(\"Reglas específicas:\")\n",
    "        if res_especificas:\n",
    "            for r in res_especificas:\n",
    "                print(f\"  Regla #{r['regla_num']}: condición = {r['condicion']} => decisión = {r['decision']}\")\n",
    "        else:\n",
    "            print(\"  Ninguna regla específica aplicada.\")\n",
    "        print(\"Reglas combinadas:\")\n",
    "        if res_combinadas:\n",
    "            for rc in res_combinadas:\n",
    "                print(f\"  Decisión combinada: {rc}\")\n",
    "        else:\n",
    "            print(\"  Ninguna regla combinada aplicada.\")\n",
    "\n",
    "\n",
    "definir = main()"
   ]
  }
 ],
 "metadata": {
  "kernelspec": {
   "display_name": "Python 3",
   "language": "python",
   "name": "python3"
  },
  "language_info": {
   "codemirror_mode": {
    "name": "ipython",
    "version": 3
   },
   "file_extension": ".py",
   "mimetype": "text/x-python",
   "name": "python",
   "nbconvert_exporter": "python",
   "pygments_lexer": "ipython3",
   "version": "3.12.4"
  }
 },
 "nbformat": 4,
 "nbformat_minor": 5
}
